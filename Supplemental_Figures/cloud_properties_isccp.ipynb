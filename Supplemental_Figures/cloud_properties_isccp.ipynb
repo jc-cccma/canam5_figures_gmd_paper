{
 "cells": [
  {
   "attachments": {},
   "cell_type": "markdown",
   "metadata": {},
   "source": [
    "#### Make plots of cloud properties using ISCCP-D and ISCCP-H cloud-top pressure/cloud optical thickness histograms"
   ]
  },
  {
   "cell_type": "markdown",
   "metadata": {},
   "source": [
    "Cloud properties for CanAM have changed noteably.  These plot will summarize them using matplotlib to generate the graphs and compute the averages."
   ]
  },
  {
   "cell_type": "code",
   "execution_count": 15,
   "metadata": {
    "vscode": {
     "languageId": "python"
    }
   },
   "outputs": [],
   "source": [
    "import numpy as np\n",
    "import xarray as xr\n",
    "import matplotlib.pyplot as py\n",
    "from matplotlib.gridspec import GridSpec\n",
    "import xesmf as xe\n",
    "import os"
   ]
  },
  {
   "cell_type": "markdown",
   "metadata": {},
   "source": [
    "Function(s) to compute the weighted mean for a DataArray"
   ]
  },
  {
   "cell_type": "code",
   "execution_count": 16,
   "metadata": {
    "vscode": {
     "languageId": "python"
    }
   },
   "outputs": [],
   "source": [
    "def masked_average(xa:xr.DataArray,\n",
    "                   dim=None,\n",
    "                   weights:xr.DataArray=None,\n",
    "                   mask:xr.DataArray=None):\n",
    "    \"\"\"\n",
    "    This function will average\n",
    "    :param xa: dataArray\n",
    "    :param dim: dimension or list of dimensions. e.g. 'lat' or ['lat','lon','time']\n",
    "    :param weights: weights (as xarray)\n",
    "    :param mask: mask (as xarray), True where values to be masked.\n",
    "    :return: masked average xarray\n",
    "    \"\"\"\n",
    "\n",
    "    if mask is not None:\n",
    "        wgt=weight*abs(mask)\n",
    "        xa_wgt=xa*wgt\n",
    "        numer=xa_wgt.sum(dim,skipna=True,min_count=1)\n",
    "        denom=wgt.sum(dim,skipna=True,min_count=1)\n",
    "        xa_weighted_average=numer/denom\n",
    "    elif weights is not None:\n",
    "        wgt=weight\n",
    "        xa_wgt=xa*wgt\n",
    "        numer=xa_wgt.sum(dim,skipna=True,min_count=1)\n",
    "        denom=wgt.sum(dim,skipna=True,min_count=1)\n",
    "        xa_weighted_average=numer/denom\n",
    "    else:\n",
    "        xa_weighted_average =  xa.mean(dim)\n",
    "\n",
    "    return xa_weighted_average"
   ]
  },
  {
   "cell_type": "markdown",
   "metadata": {},
   "source": [
    "Function to compute the weighted mean for DataArrays in a DataSet"
   ]
  },
  {
   "cell_type": "code",
   "execution_count": 17,
   "metadata": {
    "vscode": {
     "languageId": "python"
    }
   },
   "outputs": [],
   "source": [
    "def masked_average_ds(xs=None,\n",
    "                      vars=None,\n",
    "                      dim=None,\n",
    "                      weights:xr.DataArray=None,\n",
    "                      mask:xr.DataArray=None):\n",
    "    \"\"\"\n",
    "    This function will average\n",
    "    :param xa: dataSet\n",
    "    :param vars: list of variables\n",
    "    :param dim: dimension or list of dimensions. e.g. 'lat' or ['lat','lon','time']\n",
    "    :param weights: weights (as xarray)\n",
    "    :param mask: mask (as xarray), True where values to be masked.\n",
    "    :return: masked average for all arrays in a DataSet\n",
    "    \"\"\"\n",
    "\n",
    "    i = 0\n",
    "    for vv in vars:\n",
    "        data=xs[vv]\n",
    "        data_mean = masked_average(data,dim=dim,weights=weights,mask=mask)\n",
    "        # Add mean to dataset that will hold all means\n",
    "        if i == 0:\n",
    "            xs_weighted_average = data_mean.to_dataset(name=vv) \n",
    "            i=1\n",
    "        else:\n",
    "            xs_weighted_average[vv] = data_mean\n",
    "    return xs_weighted_average"
   ]
  },
  {
   "cell_type": "code",
   "execution_count": 18,
   "metadata": {
    "vscode": {
     "languageId": "python"
    }
   },
   "outputs": [],
   "source": [
    "def get_climo_ceres(start_year,\n",
    "                    end_year,\n",
    "                    ds_in_ice,\n",
    "                    ds_in_liq):\n",
    "    \n",
    "    # Get the model fields and average them\n",
    "    print(\"get_climo_ceres\")\n",
    "        \n",
    "    # Compute the time mean from start_year to end_year\n",
    "    text1='{0}-01-01'\n",
    "    text2='{0}-12-31'\n",
    "    year1=text1.format(start_year)\n",
    "    year2=text2.format(end_year)\n",
    "    \n",
    "    # Add the ice and liquid cloud amounts\n",
    "    ds_ice_plus_liq = ds_in_ice['cldtyp_cldarea_ice_day_mon']+ds_in_liq['cldtyp_cldarea_wat_day_mon']\n",
    "    ds_in_full=ds_ice_plus_liq.rename('clisccp').to_dataset()\n",
    "\n",
    "    # Slice only the years we need, can really speed things up..\n",
    "    ds_in = ds_in_full.sel(time=slice(year1, year2))\n",
    "    \n",
    "    # Compute the cloud fraction in different manners\n",
    "    \n",
    "    # Total cloud fraction\n",
    "    dr_total = ds_in.sel(opt=slice(0,3),press=slice(0,3)).sum(['opt','press'],skipna=True,min_count=1).rename({'clisccp':'total_cld_amt'})\n",
    "    \n",
    "    # Low clouds (cloud top pressure > 680 hPa)\n",
    "    dr_low = ds_in.sel(opt=slice(0,3),press=[0]).sum(['opt','press'],skipna=True,min_count=1).rename({'clisccp':'low_cld_amt'})\n",
    "\n",
    "    # Non-low clouds (cloud top pressure < 680 hPa)\n",
    "    dr_nonlow = ds_in.sel(opt=slice(0,3),press=slice(1,3)).sum(['opt','press'],skipna=True,min_count=1).rename({'clisccp':'nonlow_cld_amt'})\n",
    "\n",
    "    # Manipulate the cloud types into the ISCCP 3 by 3 cloud types (combined liquid and ice)\n",
    "    dr_ci = ds_in.sel(opt=0,press=2).rename({'clisccp':'ci_isccp_cld_amt'})\n",
    "    dr_ac = ds_in.sel(opt=0,press=1).rename({'clisccp':'ac_isccp_cld_amt'})\n",
    "    dr_cu = ds_in.sel(opt=0,press=0).rename({'clisccp':'cu_isccp_cld_amt'})\n",
    "    dr_cs = ds_in.sel(opt=1,press=2).rename({'clisccp':'cs_isccp_cld_amt'})\n",
    "    dr_as = ds_in.sel(opt=1,press=1).rename({'clisccp':'as_isccp_cld_amt'})\n",
    "    dr_sc = ds_in.sel(opt=1,press=0).rename({'clisccp':'sc_isccp_cld_amt'})\n",
    "    dr_cb = ds_in.sel(opt=2,press=2).rename({'clisccp':'cb_isccp_cld_amt'})\n",
    "    dr_ns = ds_in.sel(opt=2,press=1).rename({'clisccp':'ns_isccp_cld_amt'})\n",
    "    dr_st = ds_in.sel(opt=2,press=0).rename({'clisccp':'st_isccp_cld_amt'})\n",
    "\n",
    "    ds = xr.merge([dr_total,dr_low,dr_nonlow,dr_ci,dr_ac,dr_cu,dr_cs,dr_as,dr_sc,dr_cb,dr_ns,dr_st],compat=\"override\")\n",
    "    ds_out = ds.mean('time')\n",
    "    \n",
    "    return ds_out\n",
    "\n",
    "    "
   ]
  },
  {
   "cell_type": "markdown",
   "metadata": {},
   "source": [
    "Function to compute the required ISCCP-D climatological data"
   ]
  },
  {
   "cell_type": "code",
   "execution_count": 19,
   "metadata": {
    "vscode": {
     "languageId": "python"
    }
   },
   "outputs": [],
   "source": [
    "def get_climo_isccp_d(start_year,\n",
    "                      end_year,\n",
    "                      ds_in_full):\n",
    "    \n",
    "    # Get the model fields and average them\n",
    "    print(\"get_climo_isccp_d\")\n",
    "        \n",
    "    # Compute the time mean from start_year to end_year\n",
    "    text1='{0}-01-01'\n",
    "    text2='{0}-12-31'\n",
    "    year1=text1.format(start_year)\n",
    "    year2=text2.format(end_year)\n",
    "    \n",
    "    # Slice only the years we need, can really speed things up..\n",
    "    #ds_in = ds_in_full.sel(time=slice(year1, year2))\n",
    "    ds_in = ds_in_full.isel(time=slice(223, 295))\n",
    "\n",
    "    # Tweak the cloud top pressure/cloud optical thickness histogram\n",
    "    dr_clisccp=ds_in['clisccp']\n",
    "    \n",
    "    # Compute the cloud fraction in different manners\n",
    "    \n",
    "    # Total cloud fraction\n",
    "    dr_total = ds_in.sel(tau=slice(0.0,1000.0),plev7=slice(0.0,200000.0)).sum(['tau','plev7'],skipna=True,min_count=1).rename({'clisccp':'total_cld_amt'})\n",
    "\n",
    "    # Low clouds (cloud top pressure > 680 hPa)\n",
    "    dr_low = ds_in.sel(tau=slice(0.3,1000.0),plev7=slice(68000.0,200000.0)).sum(['tau','plev7'],skipna=True,min_count=1).rename({'clisccp':'low_cld_amt'})\n",
    "    \n",
    "    # Non-low clouds (cloud top pressure < 680 hPa)\n",
    "    dr_nonlow = ds_in.sel(tau=slice(0.3,1000.0),plev7=slice(0.0,68000.0)).sum(['tau','plev7'],skipna=True,min_count=1).rename({'clisccp':'nonlow_cld_amt'})\n",
    "\n",
    "    # Cloud fraction as a function of cloud top pressure\n",
    "    dr_cldamt_plev = ds_in.sel(tau=slice(0.3,1000.0)).sum('tau',skipna=True,min_count=1).rename({'clisccp':'cld_amt_vs_plev'})\n",
    "\n",
    "    # Cloud fraction as a function of cloud optical thickness\n",
    "    dr_cldamt_tau = ds_in.sel(tau=slice(0.3,1000.0)).sum('plev7',skipna=True,min_count=1).rename({'clisccp':'cld_amt_vs_tau'})\n",
    "    \n",
    "    # \"Optically thick\" cloud fraction\n",
    "    dr_thick = ds_in.sel(tau=slice(23.0,1000.0),plev7=slice(0.0,200000.0)).sum(['tau','plev7'],skipna=True,min_count=1).rename({'clisccp':'thick_cld_amt'})\n",
    "\n",
    "    # \"Optically thin\" cloud fraction\n",
    "    dr_thin = ds_in.sel(tau=slice(0.3,23.0),plev7=slice(0.0,200000.0)).sum(['tau','plev7'],skipna=True,min_count=1).rename({'clisccp':'thin_cld_amt'})\n",
    "\n",
    "    # Convert the 7x7 cloud-top pressure/cloud optical thickness histograms to a 3x3 histogram (matching ISCCP)\n",
    "    dr_ci = ds_in.sel(tau=slice(0.0,3.6),plev7=slice(0.0,44000.0)).sum(['tau','plev7'],skipna=True,min_count=1).rename({'clisccp':'ci_isccp_cld_amt'})\n",
    "    dr_ac = ds_in.sel(tau=slice(0.0,3.6),plev7=slice(44000.0,68000.0)).sum(['tau','plev7'],skipna=True,min_count=1).rename({'clisccp':'ac_isccp_cld_amt'})\n",
    "    dr_cu = ds_in.sel(tau=slice(0.0,3.6),plev7=slice(68000.0,200000.0)).sum(['tau','plev7'],skipna=True,min_count=1).rename({'clisccp':'cu_isccp_cld_amt'})\n",
    "    dr_cs = ds_in.sel(tau=slice(3.6,23.0),plev7=slice(0.0,44000.0)).sum(['tau','plev7'],skipna=True,min_count=1).rename({'clisccp':'cs_isccp_cld_amt'})\n",
    "    dr_as = ds_in.sel(tau=slice(3.6,23.0),plev7=slice(44000.0,68000.0)).sum(['tau','plev7'],skipna=True,min_count=1).rename({'clisccp':'as_isccp_cld_amt'})\n",
    "    dr_sc = ds_in.sel(tau=slice(3.6,23.0),plev7=slice(68000.0,200000.0)).sum(['tau','plev7'],skipna=True,min_count=1).rename({'clisccp':'sc_isccp_cld_amt'})\n",
    "    dr_cb = ds_in.sel(tau=slice(23.0,1000.0),plev7=slice(0.0,44000.0)).sum(['tau','plev7'],skipna=True,min_count=1).rename({'clisccp':'cb_isccp_cld_amt'})\n",
    "    dr_ns = ds_in.sel(tau=slice(23.0,1000.0),plev7=slice(44000.0,68000.0)).sum(['tau','plev7'],skipna=True,min_count=1).rename({'clisccp':'ns_isccp_cld_amt'})\n",
    "    dr_st = ds_in.sel(tau=slice(23.0,1000.0),plev7=slice(68000.0,200000.0)).sum(['tau','plev7'],skipna=True,min_count=1).rename({'clisccp':'st_isccp_cld_amt'})\n",
    "\n",
    "    ds = xr.merge([dr_clisccp,dr_total,dr_low,dr_nonlow,dr_cldamt_plev,dr_cldamt_tau,dr_thick,dr_thin,\n",
    "                   dr_ci,dr_ac,dr_cu,dr_cs,dr_as,dr_sc,dr_cb,dr_ns,dr_st],compat=\"override\")\n",
    "\n",
    "    ds_out = ds.mean('time').rename({'plev7':'plev'})\n",
    "    \n",
    "    return ds_out\n",
    "\n",
    "    "
   ]
  },
  {
   "cell_type": "markdown",
   "metadata": {},
   "source": [
    "Function to compute the required ISCCP-H climatological data"
   ]
  },
  {
   "cell_type": "code",
   "execution_count": 20,
   "metadata": {
    "vscode": {
     "languageId": "python"
    }
   },
   "outputs": [],
   "source": [
    "def get_climo_isccp_h(start_year,\n",
    "                      end_year,\n",
    "                      ds_in_full):\n",
    "    \n",
    "    # Get the model fields and average them\n",
    "    print(\"get_climo_isccp_h\")\n",
    "        \n",
    "    # Compute the time mean from start_year to end_year\n",
    "    text1='{0}-01-01'\n",
    "    text2='{0}-12-31'\n",
    "    year1=text1.format(start_year)\n",
    "    year2=text2.format(end_year)\n",
    "    \n",
    "    # Slice only the years we need, can really speed things up..\n",
    "    #ds_in = ds_in_full.sel(time=slice(year1, year2))\n",
    "    ds_in = ds_in_full.sel(time=slice(year1, year2))\n",
    "\n",
    "    # Tweak the cloud top pressure/cloud optical thickness histogram\n",
    "    dr_clisccp=ds_in.rename({'n_pctaudist':'clisccp'})\n",
    "\n",
    "    # Compute the cloud fraction in different manners\n",
    "    \n",
    "    # Total cloud fraction\n",
    "    dr_total = ds_in.sel(levtau=slice(0.0,1000.0),levpc=slice(0.0,2000.0)).sum(['levtau','levpc'],skipna=True,min_count=1).rename({'n_pctaudist':'total_cld_amt'})\n",
    "\n",
    "    # Low clouds (cloud top pressure > 680 hPa)\n",
    "    dr_low = ds_in.sel(levtau=slice(0.3,1000.0),levpc=slice(680.0,2000.0)).sum(['levtau','levpc'],skipna=True,min_count=1).rename({'n_pctaudist':'low_cld_amt'})\n",
    "    \n",
    "    # Non-low clouds (cloud top pressure < 680 hPa)\n",
    "    dr_nonlow = ds_in.sel(levtau=slice(0.3,1000.0),levpc=slice(0.0,680.0)).sum(['levtau','levpc'],skipna=True,min_count=1).rename({'n_pctaudist':'nonlow_cld_amt'})\n",
    "\n",
    "    # Cloud fraction as a function of cloud top pressure\n",
    "    dr_cldamt_plev = ds_in.sel(levtau=slice(0.3,1000.0)).sum('levtau',skipna=True,min_count=1).rename({'n_pctaudist':'cld_amt_vs_plev'})\n",
    "\n",
    "    # Cloud fraction as a function of cloud optical thickness\n",
    "    dr_cldamt_tau = ds_in.sel(levtau=slice(0.3,1000.0)).sum('levpc',skipna=True,min_count=1).rename({'n_pctaudist':'cld_amt_vs_tau'})\n",
    "    \n",
    "    # \"Optically thick\" cloud fraction\n",
    "    dr_thick = ds_in.sel(levtau=slice(23.0,1000.0),levpc=slice(0.0,2000.0)).sum(['levtau','levpc'],skipna=True,min_count=1).rename({'n_pctaudist':'thick_cld_amt'})\n",
    "\n",
    "    # \"Optically thin\" cloud fraction\n",
    "    dr_thin = ds_in.sel(levtau=slice(0.3,23.0),levpc=slice(0.0,2000.0)).sum(['levtau','levpc'],skipna=True,min_count=1).rename({'n_pctaudist':'thin_cld_amt'})\n",
    "\n",
    "    # Convert the 7x7 cloud-top pressure/cloud optical thickness histograms to a 3x3 histogram (matching ISCCP)\n",
    "    dr_ci = ds_in.sel(levtau=slice(0.0,3.6),levpc=slice(0.0,400.0)).sum(['levtau','levpc'],skipna=True,min_count=1).rename({'n_pctaudist':'ci_isccp_cld_amt'})\n",
    "    dr_ac = ds_in.sel(levtau=slice(0.0,3.6),levpc=slice(000.0,600.0)).sum(['levtau','levpc'],skipna=True,min_count=1).rename({'n_pctaudist':'ac_isccp_cld_amt'})\n",
    "    dr_cu = ds_in.sel(levtau=slice(0.0,3.6),levpc=slice(680.0,2000.0)).sum(['levtau','levpc'],skipna=True,min_count=1).rename({'n_pctaudist':'cu_isccp_cld_amt'})\n",
    "    dr_cs = ds_in.sel(levtau=slice(3.6,23.0),levpc=slice(0.0,000.0)).sum(['levtau','levpc'],skipna=True,min_count=1).rename({'n_pctaudist':'cs_isccp_cld_amt'})\n",
    "    dr_as = ds_in.sel(levtau=slice(3.6,23.0),levpc=slice(440.0,680.0)).sum(['levtau','levpc'],skipna=True,min_count=1).rename({'n_pctaudist':'as_isccp_cld_amt'})\n",
    "    dr_sc = ds_in.sel(levtau=slice(3.6,23.0),levpc=slice(600.0,2000.0)).sum(['levtau','levpc'],skipna=True,min_count=1).rename({'n_pctaudist':'sc_isccp_cld_amt'})\n",
    "    dr_cb = ds_in.sel(levtau=slice(23.0,1000.0),levpc=slice(0.0,440.0)).sum(['levtau','levpc'],skipna=True,min_count=1).rename({'n_pctaudist':'cb_isccp_cld_amt'})\n",
    "    dr_ns = ds_in.sel(levtau=slice(23.0,1000.0),levpc=slice(440.0,680.0)).sum(['levtau','levpc'],skipna=True,min_count=1).rename({'n_pctaudist':'ns_isccp_cld_amt'})\n",
    "    dr_st = ds_in.sel(levtau=slice(23.0,1000.0),levpc=slice(680.0,2000.0)).sum(['levtau','levpc'],skipna=True,min_count=1).rename({'n_pctaudist':'st_isccp_cld_amt'})\n",
    "\n",
    "    ds = xr.merge([dr_clisccp,dr_total,dr_low,dr_nonlow,dr_cldamt_plev,dr_cldamt_tau,dr_thick,dr_thin,\n",
    "                   dr_ci,dr_ac,dr_cu,dr_cs,dr_as,dr_sc,dr_cb,dr_ns,dr_st],compat=\"override\")\n",
    "\n",
    "    ds_out = ds.mean('time').rename({'levtau':'tau','levpc':'plev'})\n",
    "\n",
    "    return ds_out\n",
    "\n",
    "    "
   ]
  },
  {
   "cell_type": "markdown",
   "metadata": {},
   "source": [
    "Function to compute the required CanESM climatological data"
   ]
  },
  {
   "cell_type": "code",
   "execution_count": 21,
   "metadata": {
    "vscode": {
     "languageId": "python"
    }
   },
   "outputs": [],
   "source": [
    "def get_climo_canesm(start_year,\n",
    "                     end_year,\n",
    "                     ds_in_full):\n",
    "    \n",
    "    # Get the model fields and average them\n",
    "    print(\"get_climo_canesm\")\n",
    "        \n",
    "    # Compute the time mean from start_year to end_year\n",
    "    text1='{0}-01-01'\n",
    "    text2='{0}-12-31'\n",
    "    year1=text1.format(start_year)\n",
    "    year2=text2.format(end_year)\n",
    "    \n",
    "    # Slice only the years we need, can really speed things up..\n",
    "    ds_in = ds_in_full.sel(time=slice(year1, year2))\n",
    "    \n",
    "    # Tweak the cloud top pressure/cloud optical thickness histogram\n",
    "    dr_clisccp=ds_in['clisccp']\n",
    "\n",
    "    # Compute the cloud fraction in different manners\n",
    "    \n",
    "    # Total cloud fraction\n",
    "    dr_total = ds_in.sel(tau=slice(0.0,1000.0),plev=slice(200000.0,0.0)).sum(['tau','plev'],skipna=True,min_count=1).rename({'clisccp':'total_cld_amt'})\n",
    "\n",
    "    # Low clouds (cloud top pressure > 680 hPa)\n",
    "    dr_low = ds_in.sel(tau=slice(0.3,1000.0),plev=slice(200000.0,68000.0)).sum(['tau','plev'],skipna=True,min_count=1).rename({'clisccp':'low_cld_amt'})\n",
    "    \n",
    "    # Non-low clouds (cloud top pressure < 680 hPa)\n",
    "    dr_nonlow = ds_in.sel(tau=slice(0.3,1000.0),plev=slice(68000.0,0.0)).sum(['tau','plev'],skipna=True,min_count=1).rename({'clisccp':'nonlow_cld_amt'})\n",
    "\n",
    "    # Cloud fraction as a function of cloud top pressure\n",
    "    dr_cldamt_plev = ds_in.sel(tau=slice(0.3,1000.0)).sum('tau',skipna=True,min_count=1).rename({'clisccp':'cld_amt_vs_plev'})\n",
    "\n",
    "    # Cloud fraction as a function of cloud optical thickness\n",
    "    dr_cldamt_tau = ds_in.sel(tau=slice(0.3,1000.0)).sum('plev',skipna=True,min_count=1).rename({'clisccp':'cld_amt_vs_tau'})\n",
    "    \n",
    "    # \"Optically thick\" cloud fraction\n",
    "    dr_thick = ds_in.sel(tau=slice(23.0,1000.0),plev=slice(200000.0,0.0)).sum(['tau','plev'],skipna=True,min_count=1).rename({'clisccp':'thick_cld_amt'})\n",
    "\n",
    "    # \"Optically thin\" cloud fraction\n",
    "    dr_thin = ds_in.sel(tau=slice(0.3,23.0),plev=slice(200000.0,0.0)).sum(['tau','plev'],skipna=True,min_count=1).rename({'clisccp':'thin_cld_amt'})\n",
    "\n",
    "    # Convert the 7x7 cloud-top pressure/cloud optical thickness histograms to a 3x3 histogram (matching ISCCP)\n",
    "    dr_ci = ds_in.sel(tau=slice(0.0,3.6),plev=slice(44000.0,0.0)).sum(['tau','plev'],skipna=True,min_count=1).rename({'clisccp':'ci_isccp_cld_amt'})\n",
    "    dr_ac = ds_in.sel(tau=slice(0.0,3.6),plev=slice(68000.0,44000.0)).sum(['tau','plev'],skipna=True,min_count=1).rename({'clisccp':'ac_isccp_cld_amt'})\n",
    "    dr_cu = ds_in.sel(tau=slice(0.0,3.6),plev=slice(200000.0,68000.0)).sum(['tau','plev'],skipna=True,min_count=1).rename({'clisccp':'cu_isccp_cld_amt'})\n",
    "    dr_cs = ds_in.sel(tau=slice(3.6,23.0),plev=slice(44000.0,0.0)).sum(['tau','plev'],skipna=True,min_count=1).rename({'clisccp':'cs_isccp_cld_amt'})\n",
    "    dr_as = ds_in.sel(tau=slice(3.6,23.0),plev=slice(68000.0,44000.0)).sum(['tau','plev'],skipna=True,min_count=1).rename({'clisccp':'as_isccp_cld_amt'})\n",
    "    dr_sc = ds_in.sel(tau=slice(3.6,23.0),plev=slice(200000.0,68000.0)).sum(['tau','plev'],skipna=True,min_count=1).rename({'clisccp':'sc_isccp_cld_amt'})\n",
    "    dr_cb = ds_in.sel(tau=slice(23.0,1000.0),plev=slice(44000.0,0.0)).sum(['tau','plev'],skipna=True,min_count=1).rename({'clisccp':'cb_isccp_cld_amt'})\n",
    "    dr_ns = ds_in.sel(tau=slice(23.0,1000.0),plev=slice(68000.0,44000.0)).sum(['tau','plev'],skipna=True,min_count=1).rename({'clisccp':'ns_isccp_cld_amt'})\n",
    "    dr_st = ds_in.sel(tau=slice(23.0,1000.0),plev=slice(200000.0,68000.0)).sum(['tau','plev'],skipna=True,min_count=1).rename({'clisccp':'st_isccp_cld_amt'})\n",
    "\n",
    "    ds = xr.merge([dr_clisccp,dr_total,dr_low,dr_nonlow,dr_cldamt_plev,dr_cldamt_tau,dr_thick,dr_thin,\n",
    "                   dr_ci,dr_ac,dr_cu,dr_cs,dr_as,dr_sc,dr_cb,dr_ns,dr_st],compat=\"override\")\n",
    "\n",
    "    ds_out = ds.mean('time')\n",
    "\n",
    "    return ds_out\n",
    "\n",
    "    "
   ]
  },
  {
   "cell_type": "markdown",
   "metadata": {},
   "source": [
    "### Compute the global and annual means from ISCCP-H and ISCCP-D products and CanESM, then generate plots with the information."
   ]
  },
  {
   "cell_type": "code",
   "execution_count": 22,
   "metadata": {
    "vscode": {
     "languageId": "python"
    }
   },
   "outputs": [
    {
     "name": "stderr",
     "output_type": "stream",
     "text": [
      "/space/hall5/sitestore/eccc/crd/ccrn/users/jcl001/BIN/miniconda3/envs/canam5_gmd/lib/python3.9/site-packages/xarray/core/dataarray.py:789: FutureWarning: elementwise comparison failed; returning scalar instead, but in the future will perform elementwise comparison\n",
      "  return key in self.data\n"
     ]
    }
   ],
   "source": [
    "#file_isccp_h = \"/space/hall5/sitestore/eccc/crd/ccrn/users/jcl001/PROJECTS/CanAM5_paper/obs-intake-esm/processed/ISCCP/ISCCP-Basic-HGG_1.00_198307-201706.nc\"\n",
    "file_isccp_h=\"/space/hall5/sitestore/eccc/crd/ccrn/users/jcl001/PROJECTS/CanAM5_paper/obs-intake-esm/processed/ISCCP/ISCCP-Basic-HGG-monthly_1.00_198307-201706.nc\"\n",
    "file_isccp_d = \"/space/hall5/sitestore/eccc/crd/ccrn/users/jcl001/PROJECTS/CanAM5_paper/obs-intake-esm/raw/ISCCP-D/clisccp_198307-200806.nc\"\n",
    "file_modis = \"/space/hall5/sitestore/eccc/crd/ccrn/users/jcl001/PROJECTS/CanAM5_paper/obs-intake-esm/processed/MODIS/MCD06COSP-M3-MODIS_061_200207-202107.nc\"\n",
    "\n",
    "file_canam_grid=\"/space/hall5/sitestore/eccc/crd/ccrn/users/jcl001/PROJECTS/CanAM5_paper/CanAM5_grid.txt\"\n",
    "file_canesm5_clisccp = \"/space/hall5/sitestore/eccc/crd/ccrn/users/jcl001/PROJECTS/CanAM5_paper/canam_data/CanESM/clisccp_CFmon_CanESM5_historical_r1i1p2f1_gn_185001-201412.nc\"\n",
    "file_canesm2_clisccp = \"/space/hall5/sitestore/eccc/crd/ccrn/users/jcl001/PROJECTS/CanAM5_paper/canam_data/CanESM/clisccp_cfMon_CanESM2_historical_r1i1p1_197901-200512.nc\"\n",
    "file_areacella=\"/space/hall5/sitestore/eccc/crd/ccrn/users/jcl001/PROJECTS/CanAM5_paper/canam_data/areacella_fx_CanAM4_amip_r0i0p0.nc\"\n",
    "\n",
    "start_year=1988\n",
    "end_year=2005\n",
    "\n",
    "# Open the datasets\n",
    "ds_canesm5 = xr.open_dataset(file_canesm5_clisccp)\n",
    "ds_canesm2 = xr.open_dataset(file_canesm2_clisccp)\n",
    "ds_isccp_h = xr.open_dataset(file_isccp_h)\n",
    "ds_isccp_d = xr.open_dataset(file_isccp_d, decode_times=False)\n",
    "ds_modis = xr.open_dataset(file_modis)\n",
    "ds_areacella = xr.open_dataset(file_areacella)\n",
    "\n",
    "# Define information needed to regrid the observations\n",
    "lat_target=ds_canesm5['lat'].values\n",
    "lon_target=ds_canesm5['lon'].values\n",
    "\n",
    "ds_out = xr.Dataset({'lat': (['lat'], lat_target),\n",
    "                     'lon': (['lon'], lon_target),\n",
    "                    }\n",
    "                   )\n",
    "\n",
    "regridder_isccp_h = xe.Regridder(ds_isccp_h['n_pctaudist'],ds_out,'bilinear')\n",
    "regridder_isccp_d = xe.Regridder(ds_isccp_d['clisccp'],ds_out,'bilinear',periodic=True)\n",
    "regridder_modis = xe.Regridder(ds_modis['Cloud_Optical_Thickness_PCL_Total_JHisto_vs_Cloud_Top_Pressure'],ds_out,'bilinear',periodic=True)\n"
   ]
  },
  {
   "cell_type": "markdown",
   "metadata": {},
   "source": [
    "Interpolate fields as needed"
   ]
  },
  {
   "cell_type": "code",
   "execution_count": 23,
   "metadata": {
    "vscode": {
     "languageId": "python"
    }
   },
   "outputs": [
    {
     "name": "stderr",
     "output_type": "stream",
     "text": [
      "/space/hall5/sitestore/eccc/crd/ccrn/users/jcl001/BIN/miniconda3/envs/canam5_gmd/lib/python3.9/site-packages/xesmf/frontend.py:522: FutureWarning: ``output_sizes`` should be given in the ``dask_gufunc_kwargs`` parameter. It will be removed as direct parameter in a future version.\n",
      "  dr_out = xr.apply_ufunc(\n"
     ]
    }
   ],
   "source": [
    "ds_isccp_h_clisccp = regridder_isccp_h(ds_isccp_h['n_pctaudist']).to_dataset()\n",
    "ds_isccp_d_clisccp = regridder_isccp_d(ds_isccp_d['clisccp']).to_dataset()"
   ]
  },
  {
   "cell_type": "markdown",
   "metadata": {},
   "source": [
    "Get the data we need from ISCCP-H, ISCCP-D, MODIS, CanESM2 and CanESM5 for climatologies"
   ]
  },
  {
   "cell_type": "code",
   "execution_count": 24,
   "metadata": {
    "vscode": {
     "languageId": "python"
    }
   },
   "outputs": [
    {
     "name": "stdout",
     "output_type": "stream",
     "text": [
      "get_climo_isccp_h\n",
      "get_climo_isccp_d\n",
      "get_climo_canesm\n",
      "get_climo_canesm\n"
     ]
    }
   ],
   "source": [
    "ds_isccp_h_climo = get_climo_isccp_h(start_year, end_year, ds_isccp_h_clisccp)\n",
    "ds_isccp_d_climo = get_climo_isccp_d(start_year, end_year, ds_isccp_d_clisccp)\n",
    "ds_canesm2_climo = get_climo_canesm(start_year, end_year, ds_canesm2)\n",
    "ds_canesm5_climo = get_climo_canesm(start_year, end_year, ds_canesm5)"
   ]
  },
  {
   "cell_type": "markdown",
   "metadata": {},
   "source": [
    "Compute the near global (equatorward of 60 degrees) mean.  \n",
    "This is consistent with most evaluations using passive cloud properties given the large retrieval uncertainties poleward of 60 degrees."
   ]
  },
  {
   "cell_type": "code",
   "execution_count": 25,
   "metadata": {
    "vscode": {
     "languageId": "python"
    }
   },
   "outputs": [],
   "source": [
    "# CanESM5\n",
    "dr = ds_canesm5_climo['thick_cld_amt']\n",
    "# The grids don't quite match and mess up the multiplication\n",
    "weight = ds_areacella['areacella'].reindex_like(dr, method='nearest', tolerance=0.01)\n",
    "lat = ds_areacella['lat']\n",
    "mask=lat.where((lat < 60.0) & (lat > -60.0)).reindex_like(dr, method='nearest', tolerance=0.01)\n",
    "_,mask_b=xr.broadcast(dr, mask)\n",
    "\n",
    "var_list=['clisccp','total_cld_amt','low_cld_amt','nonlow_cld_amt',\n",
    "          'ci_isccp_cld_amt','ac_isccp_cld_amt','cu_isccp_cld_amt','cs_isccp_cld_amt','as_isccp_cld_amt','sc_isccp_cld_amt',\n",
    "          'cb_isccp_cld_amt','ns_isccp_cld_amt','st_isccp_cld_amt']\n",
    "ds_canesm5_glob_mean = masked_average_ds(xs=ds_canesm5_climo,vars=var_list,dim=['lon','lat'],weights=weight,mask=mask)\n",
    "\n",
    "# CanESM2\n",
    "dr = ds_canesm2_climo['thick_cld_amt']\n",
    "# The grids don't quite match and mess up the multiplication\n",
    "weight = ds_areacella['areacella'].reindex_like(dr, method='nearest', tolerance=0.01)\n",
    "lat = ds_areacella['lat']\n",
    "mask=lat.where((lat < 60.0) & (lat > -60.0)).reindex_like(dr, method='nearest', tolerance=0.01)\n",
    "_,mask_b=xr.broadcast(dr, mask)\n",
    "\n",
    "var_list=['clisccp','total_cld_amt','low_cld_amt','nonlow_cld_amt',\n",
    "          'ci_isccp_cld_amt','ac_isccp_cld_amt','cu_isccp_cld_amt','cs_isccp_cld_amt','as_isccp_cld_amt','sc_isccp_cld_amt',\n",
    "          'cb_isccp_cld_amt','ns_isccp_cld_amt','st_isccp_cld_amt']\n",
    "ds_canesm2_glob_mean = masked_average_ds(xs=ds_canesm2_climo,vars=var_list,dim=['lon','lat'],weights=weight,mask=mask)\n",
    "\n",
    "# ISCCP-H\n",
    "dr = ds_isccp_h_climo['nonlow_cld_amt']\n",
    "# The grids don't quite match and mess up the multiplication\n",
    "weight = ds_areacella['areacella'].reindex_like(dr, method='nearest', tolerance=0.01)\n",
    "lat = ds_areacella['lat']\n",
    "mask=lat.where((lat < 60.0) & (lat > -60.0)).reindex_like(dr, method='nearest', tolerance=0.01)\n",
    "_,mask_b=xr.broadcast(dr, mask)\n",
    "\n",
    "var_list=['clisccp','total_cld_amt','low_cld_amt','nonlow_cld_amt',\n",
    "          'ci_isccp_cld_amt','ac_isccp_cld_amt','cu_isccp_cld_amt','cs_isccp_cld_amt','as_isccp_cld_amt','sc_isccp_cld_amt',\n",
    "          'cb_isccp_cld_amt','ns_isccp_cld_amt','st_isccp_cld_amt']\n",
    "ds_isccp_h_glob_mean = masked_average_ds(xs=ds_isccp_h_climo,vars=var_list,dim=['lon','lat'],weights=weight,mask=mask)\n",
    "\n",
    "# ISCCP-D\n",
    "dr = ds_isccp_d_climo['nonlow_cld_amt']\n",
    "# The grids don't quite match and mess up the multiplication\n",
    "weight = ds_areacella['areacella'].reindex_like(dr, method='nearest', tolerance=0.01)\n",
    "lat = ds_areacella['lat']\n",
    "mask=lat.where((lat < 60.0) & (lat > -60.0)).reindex_like(dr, method='nearest', tolerance=0.01)\n",
    "_,mask_b=xr.broadcast(dr, mask)\n",
    "\n",
    "var_list=['clisccp','total_cld_amt','low_cld_amt','nonlow_cld_amt',\n",
    "          'ci_isccp_cld_amt','ac_isccp_cld_amt','cu_isccp_cld_amt','cs_isccp_cld_amt','as_isccp_cld_amt','sc_isccp_cld_amt',\n",
    "          'cb_isccp_cld_amt','ns_isccp_cld_amt','st_isccp_cld_amt']\n",
    "ds_isccp_d_glob_mean = masked_average_ds(xs=ds_isccp_d_climo,vars=var_list,dim=['lon','lat'],weights=weight,mask=mask)"
   ]
  },
  {
   "cell_type": "markdown",
   "metadata": {},
   "source": [
    "Create a summary plot for near-global cloud amounts"
   ]
  },
  {
   "cell_type": "code",
   "execution_count": 26,
   "metadata": {
    "vscode": {
     "languageId": "python"
    }
   },
   "outputs": [
    {
     "data": {
      "text/plain": [
       "<matplotlib.legend.Legend at 0x148717d8eee0>"
      ]
     },
     "execution_count": 26,
     "metadata": {},
     "output_type": "execute_result"
    },
    {
     "data": {
      "image/png": "[encoded data removed]",
      "text/plain": [
       "<Figure size 864x432 with 8 Axes>"
      ]
     },
     "metadata": {
      "needs_background": "light"
     },
     "output_type": "display_data"
    }
   ],
   "source": [
    "isccp_h_histo=ds_isccp_h_glob_mean['clisccp']\n",
    "isccp_d_histo=ds_isccp_d_glob_mean['clisccp']\n",
    "canesm2_histo=ds_canesm2_glob_mean['clisccp'].sel(tau=slice(0.6,2000)).reindex(plev=list(reversed(ds_canesm2_glob_mean['plev'])))\n",
    "canesm5_histo=ds_canesm5_glob_mean['clisccp'].sel(tau=slice(0.6,2000)).reindex(plev=list(reversed(ds_canesm5_glob_mean['plev'])))\n",
    "\n",
    "# Compute sums along axes\n",
    "canesm2_fn_pres=canesm2_histo.sum(['tau'])\n",
    "canesm5_fn_pres=canesm5_histo.sum(['tau'])\n",
    "isccp_h_fn_pres=isccp_h_histo.sum(['tau'])\n",
    "isccp_d_fn_pres=isccp_d_histo.sum(['tau'])\n",
    "\n",
    "canesm2_fn_tau=canesm2_histo.sum(['plev'])\n",
    "canesm5_fn_tau=canesm5_histo.sum(['plev'])\n",
    "isccp_h_fn_tau=isccp_h_histo.sum(['plev'])\n",
    "isccp_d_fn_tau=isccp_d_histo.sum(['plev'])\n",
    "\n",
    "# Compute differences\n",
    "canesm2_histo_diff = canesm2_histo.data-isccp_h_histo.data\n",
    "canesm5_histo_diff = canesm5_histo.data-isccp_h_histo.data\n",
    "canesm2_fn_pres_diff = canesm2_fn_pres.data-isccp_h_fn_pres.data\n",
    "canesm5_fn_pres_diff = canesm5_fn_pres.data-isccp_h_fn_pres.data\n",
    "canesm2_fn_tau_diff = canesm2_fn_tau.data-isccp_h_fn_tau.data\n",
    "canesm5_fn_tau_diff = canesm5_fn_tau.data-isccp_h_fn_tau.data\n",
    "\n",
    "# Layout the axes\n",
    "fig = py.figure(constrained_layout=False,figsize=[12,6])\n",
    "widths=[1,2,2,1]\n",
    "heights=[2,1]\n",
    "gs1 = fig.add_gridspec(2,4,width_ratios=widths,\n",
    "                           height_ratios=heights,left=0.05, right=0.95, wspace=0.05)\n",
    "f_ax1 = fig.add_subplot(gs1[0,0])\n",
    "f_ax2 = fig.add_subplot(gs1[0,1])\n",
    "f_ax3 = fig.add_subplot(gs1[0,2])\n",
    "f_ax4 = fig.add_subplot(gs1[0,3])\n",
    "\n",
    "gs2 = fig.add_gridspec(2,4,width_ratios=widths,\n",
    "                           height_ratios=heights,left=0.05, right=0.95, wspace=0.05,hspace=0.35)\n",
    "f_ax5 = fig.add_subplot(gs2[1,1])\n",
    "f_ax6 = fig.add_subplot(gs2[1,2])\n",
    "\n",
    "###################################\n",
    "# Make the plots\n",
    "###################################\n",
    "\n",
    "# Histograms\n",
    "f2=f_ax2.pcolormesh(isccp_h_histo.transpose(),vmin=0.0,vmax=8.0,cmap='viridis')\n",
    "cax = py.axes([0.25, 0.39, 0.2, 0.025])\n",
    "py.colorbar(f2,cax=cax,orientation='horizontal',extend='max')\n",
    "[a,b] = f_ax2.get_ylim()\n",
    "f_ax2.set_ylim(b,a)\n",
    "f_ax2.set_xticks([0,1,2,3,4,5])\n",
    "f_ax2.set_xticklabels([])\n",
    "f_ax2.set_yticks([0,1,2,3,4,5,6])\n",
    "f_ax2.set_yticklabels([])\n",
    "f_ax2.set_title(\"ISCCP-H cloud amount\")\n",
    "\n",
    "f3=f_ax3.pcolormesh(canesm5_histo_diff.transpose(),vmin=-5,vmax=5,cmap='bwr')\n",
    "cax = py.axes([0.55, 0.39, 0.2, 0.025])\n",
    "py.colorbar(f3,cax=cax,orientation='horizontal',extend='both')\n",
    "[a,b] = f_ax3.get_ylim()\n",
    "f_ax3.set_ylim(b,a)\n",
    "f_ax3.set_xticks([0,1,2,3,4,5])\n",
    "f_ax3.set_xticklabels([])\n",
    "f_ax3.set_yticks([0,1,2,3,4,5,6])\n",
    "f_ax3.set_yticklabels([])\n",
    "f_ax3.set_title(\"CanESM5-ISCCP-H cloud amount\")\n",
    "\n",
    "y1=[0.5,1.5,2.5,3.5,4.5,5.5,6.5]\n",
    "y1=[6.5,5.5,4.5,3.5,2.5,1.5,0.5]\n",
    "p_data=isccp_h_fn_pres\n",
    "f_ax1.plot(p_data,y1,color='steelblue',marker='.',label=\"ISCCP-H\")\n",
    "p_data=isccp_d_fn_pres\n",
    "f_ax1.plot(p_data,y1,color='steelblue',linestyle=\"--\",marker='.',label=\"ISCCP-D\")\n",
    "\n",
    "f_ax1.set_xlim(5,15)\n",
    "f_ax1.set_xticks([5,10,15])\n",
    "f_ax1.set_xticklabels(['5','10','15'])\n",
    "f_ax1.set_xlabel(\"cloud fraction\")\n",
    "f_ax1.set_yticks([0,1,2,3,4,5,6])\n",
    "f_ax1.set_yticklabels(['1000','800','680','560','440','310','180'])\n",
    "f_ax1.set_ylabel('cloud top pressure (hPa)')\n",
    "\n",
    "f_ax1.legend(bbox_to_anchor=(0.75, -0.3),frameon=False)\n",
    "\n",
    "y1=[6.5,5.5,4.5,3.5,2.5,1.5,0.5]\n",
    "p_data=canesm5_fn_pres_diff\n",
    "f_ax4.plot(p_data,y1,color='k',marker='.')\n",
    "p_data=canesm2_fn_pres_diff\n",
    "f_ax4.plot(p_data,y1,color='r',marker='.')\n",
    "\n",
    "f_ax4.axvline(color='black')\n",
    "f_ax4.yaxis.tick_right()\n",
    "f_ax4.yaxis.set_label_position(\"right\")\n",
    "f_ax4.set_xlim(-7.5,7.5)\n",
    "f_ax4.set_xticks([-5,0,5])\n",
    "f_ax4.set_xticklabels(['-5','0','5'])\n",
    "f_ax4.set_xlabel(r\"$\\Delta$ cloud fraction\")\n",
    "f_ax4.set_yticks([0,1,2,3,4,5,6])\n",
    "f_ax4.set_yticklabels(['1000','800','680','560','440','310','180'])\n",
    "f_ax4.set_ylabel('cloud top pressure (hpa)')\n",
    "\n",
    "x1=[0.5,1.5,2.5,3.5,4.5,5.5]\n",
    "p_data=isccp_h_fn_tau\n",
    "f_ax5.plot(x1,p_data,color='steelblue',marker='.')\n",
    "p_data=isccp_d_fn_tau\n",
    "f_ax5.plot(x1,p_data,color='steelblue',linestyle=\"--\",marker='.')\n",
    "\n",
    "f_ax5.set_ylim(0,20)\n",
    "f_ax5.set_xlim(0,6)\n",
    "f_ax5.set_xticks([0,1,2,3,4,5])\n",
    "f_ax5.set_xticklabels(['0.3','1.3','3.6','9.4','23','60'])\n",
    "f_ax5.set_yticks([0,5,10,15,20])\n",
    "f_ax5.set_yticklabels(['0','5','10','15','20'])\n",
    "f_ax5.set_ylabel(r\"cloud fraction\")\n",
    "f_ax5.set_xlabel(r\"cloud optical depth\")\n",
    "\n",
    "x1=[0.25,1.25,2.25,3.25,4.25,5.25]\n",
    "p_data=canesm5_fn_tau_diff\n",
    "f_ax6.plot(x1,p_data,color='k',marker='.',label=\"CanESM5-ISCCP-H\")\n",
    "p_data=canesm2_fn_tau_diff\n",
    "f_ax6.plot(x1,p_data,color='r',marker='.',label=\"CanESM2-ISCCP-H\")\n",
    "\n",
    "f_ax6.axhline(color='black')\n",
    "f_ax6.set_xticks([0,1,2,3,4,5])\n",
    "f_ax6.set_xticklabels(['0.3','1.3','3.6','9.4','23','60'])\n",
    "f_ax6.set_ylim(-12,12)\n",
    "f_ax6.set_xlim(0,6)\n",
    "f_ax6.yaxis.tick_right()\n",
    "f_ax6.yaxis.set_label_position(\"right\")\n",
    "f_ax6.set_yticks([-10,-5,0,5,10])\n",
    "f_ax6.set_yticklabels(['-10','-5','0','5','10'])\n",
    "f_ax6.set_xlabel(r\"cloud optical depth\")\n",
    "f_ax6.set_ylabel(r\"$\\Delta$ cloud fraction\")\n",
    "f_ax6.legend(bbox_to_anchor=(1.15, 0.75),frameon=False)\n"
   ]
  },
  {
   "cell_type": "code",
   "execution_count": null,
   "metadata": {
    "vscode": {
     "languageId": "python"
    }
   },
   "outputs": [],
   "source": []
  }
 ],
 "metadata": {
  "kernelspec": {
   "display_name": "Python 3 (ipykernel)",
   "language": "python",
   "name": "python3"
  },
  "vscode": {
   "interpreter": {
    "hash": "3738c770cb24024c65e15f6d82685bd7ae0fafe406e6de234be18e6418c8e6b2"
   }
  }
 },
 "nbformat": 4,
 "nbformat_minor": 4
}
